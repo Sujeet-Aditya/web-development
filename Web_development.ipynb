{
  "nbformat": 4,
  "nbformat_minor": 0,
  "metadata": {
    "colab": {
      "provenance": []
    },
    "kernelspec": {
      "name": "python3",
      "display_name": "Python 3"
    },
    "language_info": {
      "name": "python"
    }
  },
  "cells": [
    {
      "cell_type": "markdown",
      "source": [
        "  # Answer 1"
      ],
      "metadata": {
        "id": "ZmSS1pEqaDg6"
      }
    },
    {
      "cell_type": "code",
      "execution_count": null,
      "metadata": {
        "id": "KuO5W0hiGF4N"
      },
      "outputs": [],
      "source": [
        "#Answer 1\n",
        "    <!DOCTYPE html>\n",
        "    <html lang=\"en\">\n",
        "    <head>\n",
        "         <meta charset=\"UTF-8\">\n",
        "         <meta name=\"viewport\" content=\"width=device-width, initial-scale=1.0\">\n",
        "         <title>HTML</title>\n",
        "         </head>\n",
        "         <body>\n",
        "         <h1> HTML defines the content and structure of\n",
        "your website </h1>\n",
        "         </body>\n",
        "         </html>"
      ]
    },
    {
      "cell_type": "markdown",
      "source": [],
      "metadata": {
        "id": "9ViyDBRnTZw3"
      }
    },
    {
      "cell_type": "markdown",
      "source": [
        "   # Answer 2\n",
        "       Comment tag is used to insert comments in HTML code. It is used to excplain code.It is not visible to the user. It enclosed like this <!.....>\n",
        "       As shown in below\n",
        "       where I use this tag to explain that <h1> is used for heading"
      ],
      "metadata": {
        "id": "lFs9P4seYb3s"
      }
    },
    {
      "cell_type": "code",
      "source": [
        "<!DOCTYPE html>\n",
        "    <html lang=\"en\">\n",
        "    <head>\n",
        "         <meta charset=\"UTF-8\">\n",
        "         <meta name=\"viewport\" content=\"width=device-width, initial-scale=1.0\">\n",
        "         <title>HTML</title>\n",
        "         </head>\n",
        "         <body>\n",
        "         <h1> HTML defines the content and structure of\n",
        "your website </h1> <! This tag is used for heading>\n",
        "         </body>\n",
        "         </html>"
      ],
      "metadata": {
        "id": "9W2Ky7RhZ9U8"
      },
      "execution_count": null,
      "outputs": []
    },
    {
      "cell_type": "markdown",
      "source": [
        "# Answer 3"
      ],
      "metadata": {
        "id": "StksYNflbfvF"
      }
    },
    {
      "cell_type": "code",
      "source": [
        "<!DOCTYPE html>\n",
        "    <html lang=\"en\">\n",
        "    <head>\n",
        "         <meta charset=\"UTF-8\">\n",
        "         <meta name=\"viewport\" content=\"width=device-width, initial-scale=1.0\">\n",
        "         <title>HTML</title>\n",
        "         </head>\n",
        "         <body>\n",
        "         <h1> HTML </h1>\n",
        "         <p>HTML which stands for (Hyper Text Markup Language).This tell how\n",
        "         to display text, images and other forms of multimedia on a webpage. </p>\n",
        "\n",
        "         <p> A webform, web form or HTML form on a web page allows a\n",
        "         user to enter data that is sent to a server for processing.</p>\n",
        "         <hr>\n",
        "\n",
        "         <h1> JAVA </h1>\n",
        "\n",
        "         <p>Java is based on the principles of object-oriented programming (OOP)\n",
        "         which involves organizing code into reusable objects that have attributes\n",
        "         and methods.</p>\n",
        "\n",
        "         <br>\n",
        "         Java supports multi-threading, allowing multiple parts of a program to\n",
        "         execute concurrently.\n",
        "\n",
        "         </body>\n",
        "         </html>"
      ],
      "metadata": {
        "colab": {
          "base_uri": "https://localhost:8080/",
          "height": 106
        },
        "id": "S1UKR40Mbef7",
        "outputId": "fb59e3df-a3ff-4357-dcb6-0baa5c3e394b"
      },
      "execution_count": null,
      "outputs": [
        {
          "output_type": "error",
          "ename": "SyntaxError",
          "evalue": "invalid syntax (<ipython-input-1-588aee3e01bc>, line 1)",
          "traceback": [
            "\u001b[0;36m  File \u001b[0;32m\"<ipython-input-1-588aee3e01bc>\"\u001b[0;36m, line \u001b[0;32m1\u001b[0m\n\u001b[0;31m    <!DOCTYPE html>\u001b[0m\n\u001b[0m    ^\u001b[0m\n\u001b[0;31mSyntaxError\u001b[0m\u001b[0;31m:\u001b[0m invalid syntax\n"
          ]
        }
      ]
    },
    {
      "cell_type": "markdown",
      "source": [
        "# Answer 4"
      ],
      "metadata": {
        "id": "-PPnlp5uhMC4"
      }
    },
    {
      "cell_type": "markdown",
      "source": [
        "In HTML, tags represent the structural components of a document, such as <h1> for headings.\n",
        "Elements are formed by tags and encompass both the opening and closing tags along with the content\n"
      ],
      "metadata": {
        "id": "UC6ZfwUfhZOv"
      }
    },
    {
      "cell_type": "code",
      "source": [
        "For Exaple\n",
        "Tags <h1>\n",
        "Elements <p> </p>"
      ],
      "metadata": {
        "id": "227KquBpl95N"
      },
      "execution_count": null,
      "outputs": []
    },
    {
      "cell_type": "markdown",
      "source": [
        " #  Answer 5"
      ],
      "metadata": {
        "id": "MzUbpo9vlSiP"
      }
    },
    {
      "cell_type": "markdown",
      "source": [
        "\n",
        "    >The doctype declaration is a way of telling the browser what version of HTML the web page is using.The doctype declaration helps the browser to interpret the HTML code correctly and display the web page as intended."
      ],
      "metadata": {
        "id": "kCb06CIdkVSf"
      }
    }
  ]
}